{
 "cells": [
  {
   "cell_type": "code",
   "execution_count": null,
   "metadata": {},
   "outputs": [],
   "source": [
    "#newdatabase\n",
    "from openpyxl import Workbook\n",
    "from openpyxl import load_workbook\n",
    "import pymysql\n",
    "db = pymysql.connect(\"localhost\",\"root\",\"xxx\",\"judgement2\",charset=\"utf8\")\n",
    "file_name = 'newvalues1.xlsx'\n",
    "dictionary = {\"职业道德大一下\":3,\"消费大一\":4,\"守法\":5,\"声望\":6,\"职业经历\":7,\"职业贡献\":8,\n",
    "               \"奖励\":9,\"技能\":10,\"评价\":11,\"总汇\":12}\n",
    "    \n",
    "wb5 = load_workbook(file_name,data_only=True)\n",
    "#打开excel文件\n",
    "ws5 = wb5.active\n",
    "lie = []\n",
    "No_ = []\n",
    "for i in range(2,ws5.max_row+1):#加学校一列\n",
    "    lie.append([ws5.cell(row = i,column =1).value,ws5.cell(row=i,column=2).value,ws5.cell(row=i,column=12).value])\n",
    "newlie = sorted(lie,key = lambda x:x[2],reverse = True)\n",
    "#将lie中的数据，根据第三个参数的值逆序排列\n",
    "for rank,ele in enumerate(newlie):\n",
    "    No_.append([rank+1,ele[0],ele[1],ele[2]])\n",
    "print(No_)\n",
    "\n",
    "\n",
    "cursor = db.cursor()\n",
    "for x in range(0,80):\n",
    "    sql = \"\"\"INSERT INTO zh values('{}','{}','{}','{}')\"\"\".format(No_[x][0],No_[x][1],No_[x][2],No_[x][3])\n",
    "    try:\n",
    "        cursor.execute(sql)\n",
    "        db.commit()\n",
    "    except:\n",
    "        db.rollback()\n",
    "db.close()"
   ]
  }
 ],
 "metadata": {
  "kernelspec": {
   "display_name": "Python 3",
   "language": "python",
   "name": "python3"
  },
  "language_info": {
   "codemirror_mode": {
    "name": "ipython",
    "version": 3
   },
   "file_extension": ".py",
   "mimetype": "text/x-python",
   "name": "python",
   "nbconvert_exporter": "python",
   "pygments_lexer": "ipython3",
   "version": "3.6.4"
  }
 },
 "nbformat": 4,
 "nbformat_minor": 2
}
